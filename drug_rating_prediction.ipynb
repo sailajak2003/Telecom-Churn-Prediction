{
  "nbformat": 4,
  "nbformat_minor": 0,
  "metadata": {
    "colab": {
      "name": "drug rating prediction.ipynb",
      "provenance": [],
      "collapsed_sections": [],
      "machine_shape": "hm",
      "include_colab_link": true
    },
    "kernelspec": {
      "name": "python3",
      "display_name": "Python 3"
    },
    "accelerator": "GPU"
  },
  "cells": [
    {
      "cell_type": "markdown",
      "metadata": {
        "id": "view-in-github",
        "colab_type": "text"
      },
      "source": [
        "<a href=\"https://colab.research.google.com/github/sailajakarra/projects-machine-learning-/blob/master/drug_rating_prediction.ipynb\" target=\"_parent\"><img src=\"https://colab.research.google.com/assets/colab-badge.svg\" alt=\"Open In Colab\"/></a>"
      ]
    },
    {
      "cell_type": "code",
      "metadata": {
        "id": "HjKzRb5ylTV0",
        "colab_type": "code",
        "colab": {}
      },
      "source": [
        "import spacy\n",
        "import pandas as pd\n",
        "import matplotlib.pyplot as plt\n",
        "import seaborn as sns\n",
        "%matplotlib inline"
      ],
      "execution_count": 0,
      "outputs": []
    },
    {
      "cell_type": "code",
      "metadata": {
        "id": "l_QpIfij8CBN",
        "colab_type": "code",
        "outputId": "6abdb387-4934-4c64-9a53-777766eab01a",
        "colab": {
          "base_uri": "https://localhost:8080/",
          "height": 34
        }
      },
      "source": [
        "spacy.prefer_gpu()"
      ],
      "execution_count": 0,
      "outputs": [
        {
          "output_type": "execute_result",
          "data": {
            "text/plain": [
              "True"
            ]
          },
          "metadata": {
            "tags": []
          },
          "execution_count": 2
        }
      ]
    },
    {
      "cell_type": "code",
      "metadata": {
        "id": "2p7_vUBKrgIB",
        "colab_type": "code",
        "colab": {}
      },
      "source": [
        "#from google.colab import drive \n",
        "#drive.mount('/content/gdrive')"
      ],
      "execution_count": 0,
      "outputs": []
    },
    {
      "cell_type": "code",
      "metadata": {
        "id": "vfdNxCtdlcGC",
        "colab_type": "code",
        "colab": {}
      },
      "source": [
        "df1 = pd.read_csv('drive/My Drive/drugs_train_raw.csv')"
      ],
      "execution_count": 0,
      "outputs": []
    },
    {
      "cell_type": "code",
      "metadata": {
        "id": "2lVoz4j6fOf6",
        "colab_type": "code",
        "colab": {}
      },
      "source": [
        "df2= pd.read_csv('drive/My Drive/drugs_test_raw.csv')"
      ],
      "execution_count": 0,
      "outputs": []
    },
    {
      "cell_type": "code",
      "metadata": {
        "id": "99zy5X7APL3J",
        "colab_type": "code",
        "colab": {}
      },
      "source": [
        "df=pd.concat([df1,df2])"
      ],
      "execution_count": 0,
      "outputs": []
    },
    {
      "cell_type": "code",
      "metadata": {
        "id": "Hyw4vFd7ffTX",
        "colab_type": "code",
        "outputId": "3dbeae0d-4d7d-48d3-9d9e-45ce86152380",
        "colab": {
          "base_uri": "https://localhost:8080/",
          "height": 204
        }
      },
      "source": [
        "df.head()"
      ],
      "execution_count": 0,
      "outputs": [
        {
          "output_type": "execute_result",
          "data": {
            "text/html": [
              "<div>\n",
              "<style scoped>\n",
              "    .dataframe tbody tr th:only-of-type {\n",
              "        vertical-align: middle;\n",
              "    }\n",
              "\n",
              "    .dataframe tbody tr th {\n",
              "        vertical-align: top;\n",
              "    }\n",
              "\n",
              "    .dataframe thead th {\n",
              "        text-align: right;\n",
              "    }\n",
              "</style>\n",
              "<table border=\"1\" class=\"dataframe\">\n",
              "  <thead>\n",
              "    <tr style=\"text-align: right;\">\n",
              "      <th></th>\n",
              "      <th>uniqueID</th>\n",
              "      <th>drugName</th>\n",
              "      <th>condition</th>\n",
              "      <th>review</th>\n",
              "      <th>rating</th>\n",
              "      <th>date</th>\n",
              "      <th>usefulCount</th>\n",
              "    </tr>\n",
              "  </thead>\n",
              "  <tbody>\n",
              "    <tr>\n",
              "      <th>0</th>\n",
              "      <td>206461</td>\n",
              "      <td>Valsartan</td>\n",
              "      <td>Left Ventricular Dysfunction</td>\n",
              "      <td>\"It has no side effect, I take it in combinati...</td>\n",
              "      <td>9</td>\n",
              "      <td>20-May-12</td>\n",
              "      <td>27</td>\n",
              "    </tr>\n",
              "    <tr>\n",
              "      <th>1</th>\n",
              "      <td>95260</td>\n",
              "      <td>Guanfacine</td>\n",
              "      <td>ADHD</td>\n",
              "      <td>\"My son is halfway through his fourth week of ...</td>\n",
              "      <td>8</td>\n",
              "      <td>27-Apr-10</td>\n",
              "      <td>192</td>\n",
              "    </tr>\n",
              "    <tr>\n",
              "      <th>2</th>\n",
              "      <td>92703</td>\n",
              "      <td>Lybrel</td>\n",
              "      <td>Birth Control</td>\n",
              "      <td>\"I used to take another oral contraceptive, wh...</td>\n",
              "      <td>5</td>\n",
              "      <td>14-Dec-09</td>\n",
              "      <td>17</td>\n",
              "    </tr>\n",
              "    <tr>\n",
              "      <th>3</th>\n",
              "      <td>138000</td>\n",
              "      <td>Ortho Evra</td>\n",
              "      <td>Birth Control</td>\n",
              "      <td>\"This is my first time using any form of birth...</td>\n",
              "      <td>8</td>\n",
              "      <td>3-Nov-15</td>\n",
              "      <td>10</td>\n",
              "    </tr>\n",
              "    <tr>\n",
              "      <th>4</th>\n",
              "      <td>35696</td>\n",
              "      <td>Buprenorphine / naloxone</td>\n",
              "      <td>Opiate Dependence</td>\n",
              "      <td>\"Suboxone has completely turned my life around...</td>\n",
              "      <td>9</td>\n",
              "      <td>27-Nov-16</td>\n",
              "      <td>37</td>\n",
              "    </tr>\n",
              "  </tbody>\n",
              "</table>\n",
              "</div>"
            ],
            "text/plain": [
              "   uniqueID                  drugName  ...       date usefulCount\n",
              "0    206461                 Valsartan  ...  20-May-12          27\n",
              "1     95260                Guanfacine  ...  27-Apr-10         192\n",
              "2     92703                    Lybrel  ...  14-Dec-09          17\n",
              "3    138000                Ortho Evra  ...   3-Nov-15          10\n",
              "4     35696  Buprenorphine / naloxone  ...  27-Nov-16          37\n",
              "\n",
              "[5 rows x 7 columns]"
            ]
          },
          "metadata": {
            "tags": []
          },
          "execution_count": 290
        }
      ]
    },
    {
      "cell_type": "code",
      "metadata": {
        "id": "jyuCVdTEfuKK",
        "colab_type": "code",
        "outputId": "838ea4ef-df8d-4f84-927d-67e36bd30ead",
        "colab": {
          "base_uri": "https://localhost:8080/",
          "height": 34
        }
      },
      "source": [
        "len(df)"
      ],
      "execution_count": 0,
      "outputs": [
        {
          "output_type": "execute_result",
          "data": {
            "text/plain": [
              "215063"
            ]
          },
          "metadata": {
            "tags": []
          },
          "execution_count": 291
        }
      ]
    },
    {
      "cell_type": "code",
      "metadata": {
        "id": "Z24pIIyaPL6j",
        "colab_type": "code",
        "colab": {}
      },
      "source": [
        "df.rename(columns={'uniqueID':'id','drugName':'drug_name','usefulCount':'useful_count'},inplace=True)"
      ],
      "execution_count": 0,
      "outputs": []
    },
    {
      "cell_type": "code",
      "metadata": {
        "id": "wXhdNfYMPpAp",
        "colab_type": "code",
        "outputId": "54d4f28e-4363-44db-a013-72b061ad1c1a",
        "colab": {
          "base_uri": "https://localhost:8080/",
          "height": 153
        }
      },
      "source": [
        "df.isnull().sum()"
      ],
      "execution_count": 0,
      "outputs": [
        {
          "output_type": "execute_result",
          "data": {
            "text/plain": [
              "id                 0\n",
              "drug_name          0\n",
              "condition       1194\n",
              "review             0\n",
              "rating             0\n",
              "date               0\n",
              "useful_count       0\n",
              "dtype: int64"
            ]
          },
          "metadata": {
            "tags": []
          },
          "execution_count": 293
        }
      ]
    },
    {
      "cell_type": "code",
      "metadata": {
        "id": "lsrS3YhmPc0s",
        "colab_type": "code",
        "colab": {}
      },
      "source": [
        "df.dropna(inplace=True)"
      ],
      "execution_count": 0,
      "outputs": []
    },
    {
      "cell_type": "code",
      "metadata": {
        "id": "85-HEnKnPfmF",
        "colab_type": "code",
        "outputId": "0658f212-d68e-4431-e705-35c7e37d38bb",
        "colab": {
          "base_uri": "https://localhost:8080/",
          "height": 221
        }
      },
      "source": [
        "df.info()"
      ],
      "execution_count": 0,
      "outputs": [
        {
          "output_type": "stream",
          "text": [
            "<class 'pandas.core.frame.DataFrame'>\n",
            "Int64Index: 213869 entries, 0 to 53765\n",
            "Data columns (total 7 columns):\n",
            "id              213869 non-null int64\n",
            "drug_name       213869 non-null object\n",
            "condition       213869 non-null object\n",
            "review          213869 non-null object\n",
            "rating          213869 non-null int64\n",
            "date            213869 non-null object\n",
            "useful_count    213869 non-null int64\n",
            "dtypes: int64(3), object(4)\n",
            "memory usage: 13.1+ MB\n"
          ],
          "name": "stdout"
        }
      ]
    },
    {
      "cell_type": "code",
      "metadata": {
        "id": "KBnCMUM2PfpQ",
        "colab_type": "code",
        "outputId": "124277fd-9bf6-40b2-a25e-b31c30e67241",
        "colab": {
          "base_uri": "https://localhost:8080/",
          "height": 153
        }
      },
      "source": [
        "df.isnull().sum()"
      ],
      "execution_count": 0,
      "outputs": [
        {
          "output_type": "execute_result",
          "data": {
            "text/plain": [
              "id              0\n",
              "drug_name       0\n",
              "condition       0\n",
              "review          0\n",
              "rating          0\n",
              "date            0\n",
              "useful_count    0\n",
              "dtype: int64"
            ]
          },
          "metadata": {
            "tags": []
          },
          "execution_count": 296
        }
      ]
    },
    {
      "cell_type": "code",
      "metadata": {
        "id": "3D4gP3U0ltui",
        "colab_type": "code",
        "colab": {}
      },
      "source": [
        "reviews = df['review']\n",
        "rating = df['rating']"
      ],
      "execution_count": 0,
      "outputs": []
    },
    {
      "cell_type": "markdown",
      "metadata": {
        "id": "c3lKwuOHP8eC",
        "colab_type": "text"
      },
      "source": [
        "**EDA**"
      ]
    },
    {
      "cell_type": "code",
      "metadata": {
        "id": "_q0pdjE_Oldt",
        "colab_type": "code",
        "outputId": "dd12bdcb-b3c0-4192-f9b3-265dffec8a36",
        "colab": {
          "base_uri": "https://localhost:8080/",
          "height": 318
        }
      },
      "source": [
        "sns.set(style='darkgrid')\n",
        "sns_rating=sns.countplot(df['rating'])\n",
        "sns_rating.set_title('Rating by count')"
      ],
      "execution_count": 0,
      "outputs": [
        {
          "output_type": "execute_result",
          "data": {
            "text/plain": [
              "Text(0.5, 1.0, 'Rating by count')"
            ]
          },
          "metadata": {
            "tags": []
          },
          "execution_count": 298
        },
        {
          "output_type": "display_data",
          "data": {
            "image/png": "[encoded data removed]",
            "text/plain": [
              "<Figure size 432x288 with 1 Axes>"
            ]
          },
          "metadata": {
            "tags": []
          }
        }
      ]
    },
    {
      "cell_type": "code",
      "metadata": {
        "id": "2_SvUI8KOlhR",
        "colab_type": "code",
        "colab": {}
      },
      "source": [
        "df['review_len']=df['review'].apply(len)"
      ],
      "execution_count": 0,
      "outputs": []
    },
    {
      "cell_type": "code",
      "metadata": {
        "id": "F3aP8ysiOlkK",
        "colab_type": "code",
        "outputId": "b7ed8a36-0f5f-4531-86f5-96d457097c10",
        "colab": {
          "base_uri": "https://localhost:8080/",
          "height": 302
        }
      },
      "source": [
        "sns.boxplot(x='rating',y='review_len',data=df,palette='rainbow')"
      ],
      "execution_count": 0,
      "outputs": [
        {
          "output_type": "execute_result",
          "data": {
            "text/plain": [
              "<matplotlib.axes._subplots.AxesSubplot at 0x7fc751008748>"
            ]
          },
          "metadata": {
            "tags": []
          },
          "execution_count": 300
        },
        {
          "output_type": "display_data",
          "data": {
            "image/png": "[encoded data removed]",
            "text/plain": [
              "<Figure size 432x288 with 1 Axes>"
            ]
          },
          "metadata": {
            "tags": []
          }
        }
      ]
    },
    {
      "cell_type": "code",
      "metadata": {
        "id": "tbnAWjkPOloP",
        "colab_type": "code",
        "outputId": "02c3ec13-c01d-4bca-842a-8cb5f6c785a9",
        "colab": {
          "base_uri": "https://localhost:8080/",
          "height": 80
        }
      },
      "source": [
        "df[df['review_len']>= 9000]"
      ],
      "execution_count": 0,
      "outputs": [
        {
          "output_type": "execute_result",
          "data": {
            "text/html": [
              "<div>\n",
              "<style scoped>\n",
              "    .dataframe tbody tr th:only-of-type {\n",
              "        vertical-align: middle;\n",
              "    }\n",
              "\n",
              "    .dataframe tbody tr th {\n",
              "        vertical-align: top;\n",
              "    }\n",
              "\n",
              "    .dataframe thead th {\n",
              "        text-align: right;\n",
              "    }\n",
              "</style>\n",
              "<table border=\"1\" class=\"dataframe\">\n",
              "  <thead>\n",
              "    <tr style=\"text-align: right;\">\n",
              "      <th></th>\n",
              "      <th>id</th>\n",
              "      <th>drug_name</th>\n",
              "      <th>condition</th>\n",
              "      <th>review</th>\n",
              "      <th>rating</th>\n",
              "      <th>date</th>\n",
              "      <th>useful_count</th>\n",
              "      <th>review_len</th>\n",
              "    </tr>\n",
              "  </thead>\n",
              "  <tbody>\n",
              "    <tr>\n",
              "      <th>75663</th>\n",
              "      <td>121004</td>\n",
              "      <td>Venlafaxine</td>\n",
              "      <td>Migraine</td>\n",
              "      <td>\"Two and a half months ago I was prescribed Ve...</td>\n",
              "      <td>2</td>\n",
              "      <td>18-Jun-17</td>\n",
              "      <td>9</td>\n",
              "      <td>10787</td>\n",
              "    </tr>\n",
              "  </tbody>\n",
              "</table>\n",
              "</div>"
            ],
            "text/plain": [
              "           id    drug_name condition  ...       date  useful_count review_len\n",
              "75663  121004  Venlafaxine  Migraine  ...  18-Jun-17             9      10787\n",
              "\n",
              "[1 rows x 8 columns]"
            ]
          },
          "metadata": {
            "tags": []
          },
          "execution_count": 301
        }
      ]
    },
    {
      "cell_type": "code",
      "metadata": {
        "id": "JRtrcobnOlqo",
        "colab_type": "code",
        "colab": {}
      },
      "source": [
        "df.drop(75663,inplace=True)"
      ],
      "execution_count": 0,
      "outputs": []
    },
    {
      "cell_type": "code",
      "metadata": {
        "id": "w93k2lhzOluQ",
        "colab_type": "code",
        "outputId": "795842bf-2a43-41c2-e7e6-423795261706",
        "colab": {
          "base_uri": "https://localhost:8080/",
          "height": 470
        }
      },
      "source": [
        "rating = dict(df.loc[df.rating == 10, \"drug_name\"].value_counts())\n",
        "drugname = list(rating.keys())\n",
        "drug_rating = list(rating.values())\n",
        "\n",
        "sns_rating = sns.barplot(x = drugname[0:10], y = drug_rating[0:10],palette='summer')\n",
        "\n",
        "sns_rating.set_title('Top rated drugs')\n",
        "sns_rating.set_ylabel(\"Number of Ratings\")\n",
        "sns_rating.set_xlabel(\"Drug Names\")\n",
        "plt.setp(sns_rating.get_xticklabels(), rotation=90);"
      ],
      "execution_count": 0,
      "outputs": [
        {
          "output_type": "display_data",
          "data": {
            "image/png": "[encoded data removed]",
            "text/plain": [
              "<Figure size 432x288 with 1 Axes>"
            ]
          },
          "metadata": {
            "tags": []
          }
        }
      ]
    },
    {
      "cell_type": "code",
      "metadata": {
        "id": "x6tT-oFZQfyN",
        "colab_type": "code",
        "outputId": "49fe0bbf-4d1a-4103-a1e5-d34d36fea1c6",
        "colab": {
          "base_uri": "https://localhost:8080/",
          "height": 471
        }
      },
      "source": [
        "rating = dict(df.loc[df.rating == 1, \"drug_name\"].value_counts())\n",
        "drugname = list(rating.keys())\n",
        "drug_rating = list(rating.values())\n",
        "\n",
        "sns_rating = sns.barplot(x = drugname[0:10], y = drug_rating[0:10],palette='Reds_r')\n",
        "\n",
        "sns_rating.set_title('Worst rated drugs')\n",
        "sns_rating.set_ylabel(\"Number of Ratings\")\n",
        "sns_rating.set_xlabel(\"Drug Names\")\n",
        "plt.setp(sns_rating.get_xticklabels(), rotation=90);"
      ],
      "execution_count": 0,
      "outputs": [
        {
          "output_type": "display_data",
          "data": {
            "image/png": "[encoded data removed]",
            "text/plain": [
              "<Figure size 432x288 with 1 Axes>"
            ]
          },
          "metadata": {
            "tags": []
          }
        }
      ]
    },
    {
      "cell_type": "code",
      "metadata": {
        "id": "9fL-1QfOQf1U",
        "colab_type": "code",
        "outputId": "b62869cb-61c8-4866-8ded-997d70803d79",
        "colab": {
          "base_uri": "https://localhost:8080/",
          "height": 435
        }
      },
      "source": [
        "rating = dict(df.loc[df.rating == 10, \"condition\"].value_counts())\n",
        "condition = list(rating.keys())\n",
        "drug_rating = list(rating.values())\n",
        "\n",
        "sns_rating = sns.barplot(x = condition[0:10], y = drug_rating[0:10],palette='summer')\n",
        "\n",
        "sns_rating.set_title('Top 10 condition with 10/10 rating')\n",
        "sns_rating.set_ylabel(\"Number of Ratings\")\n",
        "sns_rating.set_xlabel(\"Condition\")\n",
        "plt.setp(sns_rating.get_xticklabels(), rotation=90);"
      ],
      "execution_count": 0,
      "outputs": [
        {
          "output_type": "display_data",
          "data": {
            "image/png": "[encoded data removed]",
            "text/plain": [
              "<Figure size 432x288 with 1 Axes>"
            ]
          },
          "metadata": {
            "tags": []
          }
        }
      ]
    },
    {
      "cell_type": "code",
      "metadata": {
        "id": "9Xh4CAcSQf35",
        "colab_type": "code",
        "outputId": "e9a30f76-43dc-4d0f-b1c3-ad6e4522bad4",
        "colab": {
          "base_uri": "https://localhost:8080/",
          "height": 441
        }
      },
      "source": [
        "rating = dict(df.loc[df.rating == 1, \"condition\"].value_counts())\n",
        "condition = list(rating.keys())\n",
        "drug_rating = list(rating.values())\n",
        "\n",
        "sns_rating = sns.barplot(x = condition[0:10], y = drug_rating[0:10],palette='Reds_r')\n",
        "\n",
        "sns_rating.set_title('Top 10 condition with 1/10 rating')\n",
        "sns_rating.set_ylabel(\"Number of Ratings\")\n",
        "sns_rating.set_xlabel(\"Condition\")\n",
        "plt.setp(sns_rating.get_xticklabels(), rotation=90);"
      ],
      "execution_count": 0,
      "outputs": [
        {
          "output_type": "display_data",
          "data": {
            "image/png": "[encoded data removed]",
            "text/plain": [
              "<Figure size 432x288 with 1 Axes>"
            ]
          },
          "metadata": {
            "tags": []
          }
        }
      ]
    },
    {
      "cell_type": "markdown",
      "metadata": {
        "id": "VU1wlhmusiam",
        "colab_type": "text"
      },
      "source": [
        "Here we are going to use SPACY to clean up the data we read from pandas"
      ]
    },
    {
      "cell_type": "code",
      "metadata": {
        "id": "_xZZf0rblXoC",
        "colab_type": "code",
        "colab": {}
      },
      "source": [
        "nlp = spacy.load('en_core_web_sm')"
      ],
      "execution_count": 0,
      "outputs": []
    },
    {
      "cell_type": "markdown",
      "metadata": {
        "id": "ZnlbplwCvia1",
        "colab_type": "text"
      },
      "source": [
        "Step 1: Tokenize the reviews, please note given the large amount of train data, this is going to take a while"
      ]
    },
    {
      "cell_type": "code",
      "metadata": {
        "id": "Gq7mSydOk5-y",
        "colab_type": "code",
        "outputId": "424cc2bf-6eed-4536-85f6-fd7f91d53dea",
        "colab": {
          "base_uri": "https://localhost:8080/",
          "height": 51
        }
      },
      "source": [
        "print(len(df['review']))\n",
        "print(len(df['rating']))"
      ],
      "execution_count": 0,
      "outputs": [
        {
          "output_type": "stream",
          "text": [
            "213868\n",
            "213868\n"
          ],
          "name": "stdout"
        }
      ]
    },
    {
      "cell_type": "code",
      "metadata": {
        "id": "6lVhnDBz122W",
        "colab_type": "code",
        "colab": {}
      },
      "source": [
        "df['token_review'] = df['review'].apply(nlp, disable=['parser','ner','tagger'])"
      ],
      "execution_count": 0,
      "outputs": []
    },
    {
      "cell_type": "code",
      "metadata": {
        "id": "Bfw2xEVa25-Q",
        "colab_type": "code",
        "colab": {}
      },
      "source": [
        "stop_words = nlp.Defaults.stop_words\n",
        "punctuations = '  ...!\"#$%&()*+,-./:;<=>?@[\\\\]^_`{|}~\\t\\r\\n\\ufeff1\\r\\n\\r\\n&#039;'"
      ],
      "execution_count": 0,
      "outputs": []
    },
    {
      "cell_type": "code",
      "metadata": {
        "id": "BwsQi_Mc2A2W",
        "colab_type": "code",
        "colab": {}
      },
      "source": [
        "def feature_engineered_tokenized_review(tr):\n",
        "    test = [token.lemma_.lower() for token in tr if token.lemma_.lower() not in stop_words and token.lemma_.lower() not in punctuations and token.lemma_ not in ['-PRON-']]\n",
        "    return test"
      ],
      "execution_count": 0,
      "outputs": []
    },
    {
      "cell_type": "code",
      "metadata": {
        "id": "FDfMg9kj2A50",
        "colab_type": "code",
        "colab": {}
      },
      "source": [
        "df['fe_treview'] = df['token_review'].apply(feature_engineered_tokenized_review)"
      ],
      "execution_count": 0,
      "outputs": []
    },
    {
      "cell_type": "markdown",
      "metadata": {
        "colab_type": "text",
        "id": "NVh_hlR39z_6"
      },
      "source": [
        "Step3: Sequence to Vector"
      ]
    },
    {
      "cell_type": "code",
      "metadata": {
        "id": "nF44f1-7z0By",
        "colab_type": "code",
        "outputId": "fe0f1dc4-8ae9-4055-88ee-083d490c7b60",
        "colab": {
          "base_uri": "https://localhost:8080/",
          "height": 79
        }
      },
      "source": [
        "from keras.preprocessing.text import Tokenizer"
      ],
      "execution_count": 0,
      "outputs": [
        {
          "output_type": "stream",
          "text": [
            "Using TensorFlow backend.\n"
          ],
          "name": "stderr"
        },
        {
          "output_type": "display_data",
          "data": {
            "text/html": [
              "<p style=\"color: red;\">\n",
              "The default version of TensorFlow in Colab will switch to TensorFlow 2.x on the 27th of March, 2020.<br>\n",
              "We recommend you <a href=\"https://www.tensorflow.org/guide/migrate\" target=\"_blank\">upgrade</a> now\n",
              "or ensure your notebook will continue to use TensorFlow 1.x via the <code>%tensorflow_version 1.x</code> magic:\n",
              "<a href=\"https://colab.research.google.com/notebooks/tensorflow_version.ipynb\" target=\"_blank\">more info</a>.</p>\n"
            ],
            "text/plain": [
              "<IPython.core.display.HTML object>"
            ]
          },
          "metadata": {
            "tags": []
          }
        }
      ]
    },
    {
      "cell_type": "code",
      "metadata": {
        "id": "gBrLTUYL0SdJ",
        "colab_type": "code",
        "colab": {}
      },
      "source": [
        "tokenizer = Tokenizer()\n",
        "tokenizer.fit_on_texts(df['fe_treview'])\n",
        "sequences = tokenizer.texts_to_sequences(df['fe_treview'])"
      ],
      "execution_count": 0,
      "outputs": []
    },
    {
      "cell_type": "code",
      "metadata": {
        "id": "YUB29RYmB_7u",
        "colab_type": "code",
        "colab": {}
      },
      "source": [
        "seq_lens = [len(x) for x in sequences]"
      ],
      "execution_count": 0,
      "outputs": []
    },
    {
      "cell_type": "code",
      "metadata": {
        "id": "oM_JIsgqCAD9",
        "colab_type": "code",
        "colab": {}
      },
      "source": [
        "import matplotlib.pyplot as plt\n",
        "%matplotlib inline\n",
        "import seaborn as sns"
      ],
      "execution_count": 0,
      "outputs": []
    },
    {
      "cell_type": "code",
      "metadata": {
        "id": "b-w9JqV7CAKu",
        "colab_type": "code",
        "outputId": "3a113b57-ab7b-491f-aa3c-8812dc6aa3f1",
        "colab": {
          "base_uri": "https://localhost:8080/",
          "height": 285
        }
      },
      "source": [
        "sns.boxplot(seq_lens)"
      ],
      "execution_count": 0,
      "outputs": [
        {
          "output_type": "execute_result",
          "data": {
            "text/plain": [
              "<matplotlib.axes._subplots.AxesSubplot at 0x7fc791d43940>"
            ]
          },
          "metadata": {
            "tags": []
          },
          "execution_count": 317
        },
        {
          "output_type": "display_data",
          "data": {
            "image/png": "[encoded data removed]",
            "text/plain": [
              "<Figure size 432x288 with 1 Axes>"
            ]
          },
          "metadata": {
            "tags": []
          }
        }
      ]
    },
    {
      "cell_type": "code",
      "metadata": {
        "id": "0OttZ7-nCcGy",
        "colab_type": "code",
        "outputId": "611e895b-4dea-4e99-f3e9-27fee23003dc",
        "colab": {
          "base_uri": "https://localhost:8080/",
          "height": 68
        }
      },
      "source": [
        "df['review'][0]"
      ],
      "execution_count": 0,
      "outputs": [
        {
          "output_type": "execute_result",
          "data": {
            "text/plain": [
              "0    \"It has no side effect, I take it in combinati...\n",
              "0    \"I&#039;ve tried a few antidepressants over th...\n",
              "Name: review, dtype: object"
            ]
          },
          "metadata": {
            "tags": []
          },
          "execution_count": 318
        }
      ]
    },
    {
      "cell_type": "code",
      "metadata": {
        "id": "dsyf2zo_c_RI",
        "colab_type": "code",
        "outputId": "1d05f2ca-444b-49b6-b6c7-b7d5e016ea1b",
        "colab": {
          "base_uri": "https://localhost:8080/",
          "height": 34
        }
      },
      "source": [
        "sequences[0]"
      ],
      "execution_count": 0,
      "outputs": [
        {
          "output_type": "execute_result",
          "data": {
            "text/plain": [
              "[7, 548, 2234, 42, 14, 2579, 1126]"
            ]
          },
          "metadata": {
            "tags": []
          },
          "execution_count": 319
        }
      ]
    },
    {
      "cell_type": "code",
      "metadata": {
        "id": "iVQmWiM9K9a-",
        "colab_type": "code",
        "outputId": "248687ea-2c7d-4b9f-bb18-b88f7b64712f",
        "colab": {
          "base_uri": "https://localhost:8080/",
          "height": 34
        }
      },
      "source": [
        ""
      ],
      "execution_count": 0,
      "outputs": [
        {
          "output_type": "execute_result",
          "data": {
            "text/plain": [
              "list"
            ]
          },
          "metadata": {
            "tags": []
          },
          "execution_count": 23
        }
      ]
    },
    {
      "cell_type": "markdown",
      "metadata": {
        "id": "kYA5S5BD92RA",
        "colab_type": "text"
      },
      "source": [
        "Step4: Padding the reviews (Feature Engineered and tokenized one)"
      ]
    },
    {
      "cell_type": "code",
      "metadata": {
        "id": "w7vY1Mk_xQT2",
        "colab_type": "code",
        "colab": {}
      },
      "source": [
        "from keras.preprocessing import sequence\n",
        "from keras.models import Sequential"
      ],
      "execution_count": 0,
      "outputs": []
    },
    {
      "cell_type": "code",
      "metadata": {
        "id": "e_Uwfi46tkJJ",
        "colab_type": "code",
        "colab": {}
      },
      "source": [
        "maxlen = 125\n",
        "x = sequence.pad_sequences(sequences, maxlen=maxlen)"
      ],
      "execution_count": 0,
      "outputs": []
    },
    {
      "cell_type": "code",
      "metadata": {
        "id": "2RqS5Al4iC_4",
        "colab_type": "code",
        "colab": {}
      },
      "source": [
        "from keras.utils import to_categorical\n",
        "\n",
        "y_cat = to_categorical(df['rating'], num_classes=11)"
      ],
      "execution_count": 0,
      "outputs": []
    },
    {
      "cell_type": "code",
      "metadata": {
        "id": "UyF_JNMgv9JT",
        "colab_type": "code",
        "colab": {}
      },
      "source": [
        "X = x\n",
        "y = y_cat"
      ],
      "execution_count": 0,
      "outputs": []
    },
    {
      "cell_type": "code",
      "metadata": {
        "id": "LNK8z7HTkPVs",
        "colab_type": "code",
        "outputId": "a6343324-ca55-4e68-e84e-73d99e1dfa0f",
        "colab": {
          "base_uri": "https://localhost:8080/",
          "height": 51
        }
      },
      "source": [
        "print(X.shape)\n",
        "print(y.shape)"
      ],
      "execution_count": 0,
      "outputs": [
        {
          "output_type": "stream",
          "text": [
            "(213868, 125)\n",
            "(213868, 11)\n"
          ],
          "name": "stdout"
        }
      ]
    },
    {
      "cell_type": "code",
      "metadata": {
        "id": "IEUux24gwER7",
        "colab_type": "code",
        "colab": {}
      },
      "source": [
        "from sklearn.model_selection import train_test_split"
      ],
      "execution_count": 0,
      "outputs": []
    },
    {
      "cell_type": "code",
      "metadata": {
        "id": "3d9TfGOjhqMY",
        "colab_type": "code",
        "colab": {}
      },
      "source": [
        "X_train, X_test, y_train, y_test = train_test_split(X, y, test_size=0.33, random_state=42)"
      ],
      "execution_count": 0,
      "outputs": []
    },
    {
      "cell_type": "markdown",
      "metadata": {
        "id": "CNQZak5YwL9F",
        "colab_type": "text"
      },
      "source": [
        "Here comes Keras code for sentiment analysis"
      ]
    },
    {
      "cell_type": "code",
      "metadata": {
        "id": "8hfa6mpuwQmR",
        "colab_type": "code",
        "colab": {}
      },
      "source": [
        "from __future__ import print_function\n",
        "import numpy as np\n",
        "\n",
        "from keras.preprocessing import sequence\n",
        "from keras.models import Sequential\n",
        "from keras.layers import Dense, Dropout, Embedding, LSTM, Bidirectional"
      ],
      "execution_count": 0,
      "outputs": []
    },
    {
      "cell_type": "code",
      "metadata": {
        "id": "mpF296w6wUUw",
        "colab_type": "code",
        "colab": {}
      },
      "source": [
        "vocabulary_size = len(tokenizer.word_counts)\n",
        "batch_size = 64"
      ],
      "execution_count": 0,
      "outputs": []
    },
    {
      "cell_type": "markdown",
      "metadata": {
        "id": "3lLcwj4gwgG9",
        "colab_type": "text"
      },
      "source": [
        "----------   Model1: Bidirectional LSTM --------------------"
      ]
    },
    {
      "cell_type": "code",
      "metadata": {
        "id": "juH7PeQ7wZ9v",
        "colab_type": "code",
        "outputId": "7b64cecb-90e8-41dc-c026-cfde2bd1f281",
        "colab": {
          "base_uri": "https://localhost:8080/",
          "height": 139
        }
      },
      "source": [
        "model1 = Sequential()\n",
        "model1.add(Embedding(vocabulary_size, 64, input_length=maxlen))\n",
        "model1.add(Bidirectional(LSTM(64)))\n",
        "model1.add(Dense(64, activation='relu'))\n",
        "model1.add(Dense(11,activation='softmax'))"
      ],
      "execution_count": 0,
      "outputs": [
        {
          "output_type": "stream",
          "text": [
            "WARNING:tensorflow:From /usr/local/lib/python3.6/dist-packages/keras/backend/tensorflow_backend.py:66: The name tf.get_default_graph is deprecated. Please use tf.compat.v1.get_default_graph instead.\n",
            "\n",
            "WARNING:tensorflow:From /usr/local/lib/python3.6/dist-packages/keras/backend/tensorflow_backend.py:541: The name tf.placeholder is deprecated. Please use tf.compat.v1.placeholder instead.\n",
            "\n",
            "WARNING:tensorflow:From /usr/local/lib/python3.6/dist-packages/keras/backend/tensorflow_backend.py:4432: The name tf.random_uniform is deprecated. Please use tf.random.uniform instead.\n",
            "\n"
          ],
          "name": "stdout"
        }
      ]
    },
    {
      "cell_type": "code",
      "metadata": {
        "id": "ly7oXsKGwafG",
        "colab_type": "code",
        "colab": {}
      },
      "source": [
        "model1.compile(optimizer='adam',loss='categorical_crossentropy', metrics=['accuracy'])"
      ],
      "execution_count": 0,
      "outputs": []
    },
    {
      "cell_type": "code",
      "metadata": {
        "id": "bnVBhIKCwarg",
        "colab_type": "code",
        "outputId": "831e3481-0bb2-4e42-8270-99e26b7ffd36",
        "colab": {
          "base_uri": "https://localhost:8080/",
          "height": 221
        }
      },
      "source": [
        "print('Train...')\n",
        "model1.fit(X_train, y_train,epochs=5)"
      ],
      "execution_count": 0,
      "outputs": [
        {
          "output_type": "stream",
          "text": [
            "Train...\n",
            "Epoch 1/5\n",
            "143291/143291 [==============================] - 1983s 14ms/step - loss: 1.6909 - acc: 0.4043\n",
            "Epoch 2/5\n",
            "143291/143291 [==============================] - 1989s 14ms/step - loss: 1.5116 - acc: 0.4545\n",
            "Epoch 3/5\n",
            "143291/143291 [==============================] - 1985s 14ms/step - loss: 1.3616 - acc: 0.5072\n",
            "Epoch 4/5\n",
            "143291/143291 [==============================] - 1974s 14ms/step - loss: 1.1986 - acc: 0.5689\n",
            "Epoch 5/5\n",
            "143291/143291 [==============================] - 1997s 14ms/step - loss: 1.0316 - acc: 0.6343\n"
          ],
          "name": "stdout"
        },
        {
          "output_type": "execute_result",
          "data": {
            "text/plain": [
              "<keras.callbacks.History at 0x7f4b8f9eac88>"
            ]
          },
          "metadata": {
            "tags": []
          },
          "execution_count": 140
        }
      ]
    },
    {
      "cell_type": "code",
      "metadata": {
        "id": "5BIAvsxz_MNU",
        "colab_type": "code",
        "outputId": "b85f197d-0cc9-4525-9ac2-346a0f9dd045",
        "colab": {
          "base_uri": "https://localhost:8080/",
          "height": 68
        }
      },
      "source": [
        " score, acc = model1.evaluate(X_test, y_test, batch_size=batch_size)\n",
        "print('Test score:', score)\n",
        "print('Test accuracy:', acc)"
      ],
      "execution_count": 0,
      "outputs": [
        {
          "output_type": "stream",
          "text": [
            "70577/70577 [==============================] - 175s 2ms/step\n",
            "Test score: 1.580282852284411\n",
            "Test accuracy: 0.4982076313838618\n"
          ],
          "name": "stdout"
        }
      ]
    },
    {
      "cell_type": "code",
      "metadata": {
        "id": "ZDTZb24AGd2c",
        "colab_type": "code",
        "colab": {}
      },
      "source": [
        "#df = pd.read_csv('drive/My Drive/drugs_train_raw.csv')\n",
        "model1.save('drive/My Drive/model1_Bidir_LSTM.hd5')"
      ],
      "execution_count": 0,
      "outputs": []
    },
    {
      "cell_type": "code",
      "metadata": {
        "id": "AvnYp6cV--Kq",
        "colab_type": "code",
        "colab": {}
      },
      "source": [
        "model1=model.load('drive/My Drive/model1_Bidir_LSTM.hd5')"
      ],
      "execution_count": 0,
      "outputs": []
    },
    {
      "cell_type": "markdown",
      "metadata": {
        "id": "7wjVsiUryGx3",
        "colab_type": "text"
      },
      "source": [
        "---------- End of Model1: **Bidirectional LSTM**, accurancy:[**0.6343** ] ------------------"
      ]
    },
    {
      "cell_type": "code",
      "metadata": {
        "id": "GnZMpPQlWUuF",
        "colab_type": "code",
        "colab": {}
      },
      "source": [
        "# Test score: 1.580282852284411\n",
        "# Test accuracy: 0.4982076313838618"
      ],
      "execution_count": 0,
      "outputs": []
    },
    {
      "cell_type": "code",
      "metadata": {
        "id": "pcfermE5XBm1",
        "colab_type": "code",
        "colab": {}
      },
      "source": [
        "def visualize_training_results(results):\n",
        "    history = results.history\n",
        "    plt.figure()\n",
        "    plt.plot(history['acc'])\n",
        "    plt.plot(history['loss'])\n",
        "    plt.legend(['Accuracy', 'loss'])\n",
        "    plt.title('Metrics')\n",
        "    plt.xlabel('Epochs')\n",
        "    plt.ylabel('Accuracy')\n",
        "    plt.show()"
      ],
      "execution_count": 0,
      "outputs": []
    },
    {
      "cell_type": "code",
      "metadata": {
        "id": "2OrP3rFPXBqf",
        "colab_type": "code",
        "colab": {}
      },
      "source": [
        "visualize_training_results(model1.history)\n",
        "# k = model1.history\n",
        "# k.history"
      ],
      "execution_count": 0,
      "outputs": []
    },
    {
      "cell_type": "markdown",
      "metadata": {
        "id": "SMZHNBAhyRor",
        "colab_type": "text"
      },
      "source": [
        "----------   Model2: 1D CNN for text classification --------------------"
      ]
    },
    {
      "cell_type": "code",
      "metadata": {
        "id": "gJwG1Ye4wm92",
        "colab_type": "code",
        "colab": {}
      },
      "source": [
        "from keras.preprocessing import sequence\n",
        "from keras.models import Sequential\n",
        "from keras.layers import Dense, Dropout, Activation\n",
        "from keras.layers import Embedding\n",
        "from keras.layers import Conv1D, GlobalMaxPooling1D"
      ],
      "execution_count": 0,
      "outputs": []
    },
    {
      "cell_type": "code",
      "metadata": {
        "id": "7veMbHhzwnHX",
        "colab_type": "code",
        "colab": {}
      },
      "source": [
        "max_features = vocabulary_size\n",
        "\n",
        "batch_size = 64\n",
        "embedding_dims = 64\n",
        "filters = 250\n",
        "kernel_size = 3\n",
        "hidden_dims = 250\n",
        "epochs = 8"
      ],
      "execution_count": 0,
      "outputs": []
    },
    {
      "cell_type": "code",
      "metadata": {
        "id": "xkZc0x6symIq",
        "colab_type": "code",
        "outputId": "a8d7a62e-874c-4378-b3f0-fbfacef76396",
        "colab": {
          "base_uri": "https://localhost:8080/",
          "height": 34
        }
      },
      "source": [
        "print('Build model...')\n",
        "model2 = Sequential()\n",
        "\n",
        "# we start off with an efficient embedding layer which maps\n",
        "# our vocab indices into embedding_dims dimensions\n",
        "#model1.add(Embedding(vocabulary_size, 64, input_length=maxlen))\n",
        "\n",
        "model2.add(Embedding(vocabulary_size,embedding_dims,input_length=maxlen))\n",
        "\n",
        "model2.add(Dropout(0.15))\n",
        "\n",
        "# we add a Convolution1D, which will learn filters\n",
        "# word group filters of size filter_length:\n",
        "model2.add(Conv1D(filters,kernel_size,padding='valid', activation='relu',strides=1))\n",
        "\n",
        "# we use max pooling:\n",
        "model2.add(GlobalMaxPooling1D())\n",
        "\n",
        "# We add a vanilla hidden layer:\n",
        "model2.add(Dense(hidden_dims))\n",
        "model2.add(Dropout(0.2))\n",
        "model2.add(Activation('relu'))\n",
        "\n",
        "# We project onto a single unit output layer, and squash it with a sigmoid:\n",
        "model2.add(Dense(11))\n",
        "model2.add(Activation('sigmoid'))\n"
      ],
      "execution_count": 0,
      "outputs": [
        {
          "output_type": "stream",
          "text": [
            "Build model...\n"
          ],
          "name": "stdout"
        }
      ]
    },
    {
      "cell_type": "code",
      "metadata": {
        "id": "cDdEiFgfymRI",
        "colab_type": "code",
        "colab": {}
      },
      "source": [
        "model2.compile(optimizer='adam',loss='categorical_crossentropy', metrics=['accuracy'])"
      ],
      "execution_count": 0,
      "outputs": []
    },
    {
      "cell_type": "code",
      "metadata": {
        "id": "K-ZPerzVymVy",
        "colab_type": "code",
        "outputId": "8cb5e49e-6ed1-4c2e-cb5b-2589d06f6133",
        "colab": {
          "base_uri": "https://localhost:8080/",
          "height": 323
        }
      },
      "source": [
        "print('Train...')\n",
        "model2.fit(X_train, y_train,epochs=epochs)\n"
      ],
      "execution_count": 0,
      "outputs": [
        {
          "output_type": "stream",
          "text": [
            "Train...\n",
            "Epoch 1/8\n",
            "143291/143291 [==============================] - 28s 199us/step - loss: 1.7247 - acc: 0.3946\n",
            "Epoch 2/8\n",
            "143291/143291 [==============================] - 28s 194us/step - loss: 1.5237 - acc: 0.4446\n",
            "Epoch 3/8\n",
            "143291/143291 [==============================] - 27s 191us/step - loss: 1.3564 - acc: 0.4953\n",
            "Epoch 4/8\n",
            "143291/143291 [==============================] - 28s 196us/step - loss: 1.2045 - acc: 0.5495\n",
            "Epoch 5/8\n",
            "143291/143291 [==============================] - 28s 194us/step - loss: 1.0787 - acc: 0.5951\n",
            "Epoch 6/8\n",
            "143291/143291 [==============================] - 28s 192us/step - loss: 0.9835 - acc: 0.6310\n",
            "Epoch 7/8\n",
            "143291/143291 [==============================] - 28s 193us/step - loss: 0.9072 - acc: 0.6606\n",
            "Epoch 8/8\n",
            "143291/143291 [==============================] - 28s 193us/step - loss: 0.8402 - acc: 0.6857\n"
          ],
          "name": "stdout"
        },
        {
          "output_type": "execute_result",
          "data": {
            "text/plain": [
              "<keras.callbacks.History at 0x7fc78db4fd68>"
            ]
          },
          "metadata": {
            "tags": []
          },
          "execution_count": 220
        }
      ]
    },
    {
      "cell_type": "code",
      "metadata": {
        "id": "MXhNgwLT_Jop",
        "colab_type": "code",
        "outputId": "70c76f24-182c-44c5-f495-705337e358f7",
        "colab": {
          "base_uri": "https://localhost:8080/",
          "height": 68
        }
      },
      "source": [
        "score, acc = model2.evaluate(X_test, y_test, batch_size=batch_size)\n",
        "print('Test score:', score)\n",
        "print('Test accuracy:', acc)"
      ],
      "execution_count": 0,
      "outputs": [
        {
          "output_type": "stream",
          "text": [
            "70577/70577 [==============================] - 2s 28us/step\n",
            "Test score: 1.594077046808629\n",
            "Test accuracy: 0.5395667143784159\n"
          ],
          "name": "stdout"
        }
      ]
    },
    {
      "cell_type": "code",
      "metadata": {
        "id": "tsKj-1_w4Ti4",
        "colab_type": "code",
        "colab": {}
      },
      "source": [
        "model2.save('drive/My Drive/model2_Conv1d_GloMaxPool.hd5')"
      ],
      "execution_count": 0,
      "outputs": []
    },
    {
      "cell_type": "code",
      "metadata": {
        "id": "8obIr-NMagZ3",
        "colab_type": "code",
        "outputId": "978c9728-564a-48cc-88f4-92cbfcbb18ba",
        "colab": {
          "base_uri": "https://localhost:8080/",
          "height": 301
        }
      },
      "source": [
        "visualize_training_results(model2.history)"
      ],
      "execution_count": 0,
      "outputs": [
        {
          "output_type": "display_data",
          "data": {
            "image/png": "[encoded data removed]",
            "text/plain": [
              "<Figure size 432x288 with 1 Axes>"
            ]
          },
          "metadata": {
            "tags": []
          }
        }
      ]
    },
    {
      "cell_type": "markdown",
      "metadata": {
        "id": "UC334Amo1KtY",
        "colab_type": "text"
      },
      "source": [
        "---------- End of Model2: **Conv1D** , loss: 0.8402 - acc: 0.6857 ------------------"
      ]
    },
    {
      "cell_type": "code",
      "metadata": {
        "id": "gWqqBLKrvYYt",
        "colab_type": "code",
        "colab": {}
      },
      "source": [
        "# Test score: 1.594077046808629\n",
        "# Test accuracy: 0.5395667143784159"
      ],
      "execution_count": 0,
      "outputs": []
    },
    {
      "cell_type": "markdown",
      "metadata": {
        "id": "3o3-mqNj1VyL",
        "colab_type": "text"
      },
      "source": [
        "----------   Model3: Conv1D + LSTM  --------------------"
      ]
    },
    {
      "cell_type": "code",
      "metadata": {
        "id": "dfzG3-SnuNSY",
        "colab_type": "code",
        "colab": {}
      },
      "source": [
        "from keras.layers import MaxPooling1D"
      ],
      "execution_count": 0,
      "outputs": []
    },
    {
      "cell_type": "code",
      "metadata": {
        "id": "YE5ONUyr1Wav",
        "colab_type": "code",
        "colab": {}
      },
      "source": [
        "max_features = vocabulary_size\n",
        "#maxlen = 100\n",
        "embedding_size = 128\n",
        "\n",
        "# Convolution\n",
        "kernel_size = 5\n",
        "filters = 64\n",
        "pool_size = 4\n",
        "\n",
        "# LSTM\n",
        "lstm_output_size = 70\n",
        "\n",
        "# Training\n",
        "batch_size = 30\n",
        "epochs = 15"
      ],
      "execution_count": 0,
      "outputs": []
    },
    {
      "cell_type": "code",
      "metadata": {
        "id": "zu_h8gDZ1WLl",
        "colab_type": "code",
        "colab": {}
      },
      "source": [
        "model3 = Sequential()\n",
        "model3.add(Embedding(max_features, embedding_size, input_length=maxlen))\n",
        "model3.add(Dropout(0.25))\n",
        "model3.add(Conv1D(filters,kernel_size, padding='valid',activation='relu',strides=1))\n",
        "model3.add(MaxPooling1D(pool_size=pool_size))\n",
        "model3.add(LSTM(lstm_output_size))\n",
        "model3.add(Dense(11))\n",
        "model3.add(Activation('sigmoid'))"
      ],
      "execution_count": 0,
      "outputs": []
    },
    {
      "cell_type": "code",
      "metadata": {
        "id": "Uk8PWcLk1Wee",
        "colab_type": "code",
        "colab": {}
      },
      "source": [
        "model3.compile(optimizer='adam',loss='categorical_crossentropy', metrics=['accuracy'])"
      ],
      "execution_count": 0,
      "outputs": []
    },
    {
      "cell_type": "code",
      "metadata": {
        "id": "UpIpmIX_1Wh8",
        "colab_type": "code",
        "outputId": "8f455f8f-8741-44a6-9a29-94e1fe536bc4",
        "colab": {
          "base_uri": "https://localhost:8080/",
          "height": 544
        }
      },
      "source": [
        "print('Train...')\n",
        "results = model3.fit(X_train, y_train,epochs=epochs)"
      ],
      "execution_count": 0,
      "outputs": [
        {
          "output_type": "stream",
          "text": [
            "Train...\n",
            "Epoch 1/15\n",
            "143291/143291 [==============================] - 227s 2ms/step - loss: 1.7321 - acc: 0.3930\n",
            "Epoch 2/15\n",
            "143291/143291 [==============================] - 230s 2ms/step - loss: 1.5383 - acc: 0.4475\n",
            "Epoch 3/15\n",
            "143291/143291 [==============================] - 218s 2ms/step - loss: 1.3598 - acc: 0.5088\n",
            "Epoch 4/15\n",
            "143291/143291 [==============================] - 218s 2ms/step - loss: 1.1827 - acc: 0.5787\n",
            "Epoch 5/15\n",
            "143291/143291 [==============================] - 218s 2ms/step - loss: 1.0277 - acc: 0.6399\n",
            "Epoch 6/15\n",
            "143291/143291 [==============================] - 218s 2ms/step - loss: 0.8975 - acc: 0.6878\n",
            "Epoch 7/15\n",
            "143291/143291 [==============================] - 217s 2ms/step - loss: 0.7993 - acc: 0.7266\n",
            "Epoch 8/15\n",
            "143291/143291 [==============================] - 218s 2ms/step - loss: 0.7243 - acc: 0.7529\n",
            "Epoch 9/15\n",
            "143291/143291 [==============================] - 219s 2ms/step - loss: 0.6622 - acc: 0.7750\n",
            "Epoch 10/15\n",
            "143291/143291 [==============================] - 224s 2ms/step - loss: 0.6112 - acc: 0.7920\n",
            "Epoch 11/15\n",
            "143291/143291 [==============================] - 220s 2ms/step - loss: 0.5682 - acc: 0.8066\n",
            "Epoch 12/15\n",
            "143291/143291 [==============================] - 218s 2ms/step - loss: 0.5370 - acc: 0.8185\n",
            "Epoch 13/15\n",
            "143291/143291 [==============================] - 217s 2ms/step - loss: 0.5060 - acc: 0.8285\n",
            "Epoch 14/15\n",
            "143291/143291 [==============================] - 217s 2ms/step - loss: 0.4832 - acc: 0.8361\n",
            "Epoch 15/15\n",
            "143291/143291 [==============================] - 218s 2ms/step - loss: 0.4626 - acc: 0.8429\n"
          ],
          "name": "stdout"
        }
      ]
    },
    {
      "cell_type": "code",
      "metadata": {
        "id": "URKoVTVL1WlG",
        "colab_type": "code",
        "outputId": "0d068531-31da-44b8-889d-420d79b7ca11",
        "colab": {
          "base_uri": "https://localhost:8080/",
          "height": 68
        }
      },
      "source": [
        "score, acc = model3.evaluate(X_test, y_test, batch_size=batch_size)\n",
        "print('Test score:', score)\n",
        "print('Test accuracy:', acc)"
      ],
      "execution_count": 0,
      "outputs": [
        {
          "output_type": "stream",
          "text": [
            "70577/70577 [==============================] - 44s 629us/step\n",
            "Test score: 1.6425871821967422\n",
            "Test accuracy: 0.6208821637121682\n"
          ],
          "name": "stdout"
        }
      ]
    },
    {
      "cell_type": "code",
      "metadata": {
        "id": "Xrt-OTEt1WqF",
        "colab_type": "code",
        "colab": {}
      },
      "source": [
        "model3.save('drive/My Drive/model3_Conv1d_MaxPool_LSTM.hd5')"
      ],
      "execution_count": 0,
      "outputs": []
    },
    {
      "cell_type": "code",
      "metadata": {
        "id": "cFRRL1G14kwT",
        "colab_type": "code",
        "outputId": "17cf5c4e-a224-4ce0-de42-116bfb39f226",
        "colab": {
          "base_uri": "https://localhost:8080/",
          "height": 301
        }
      },
      "source": [
        "visualize_training_results(model3.history)"
      ],
      "execution_count": 0,
      "outputs": [
        {
          "output_type": "display_data",
          "data": {
            "image/png": "[encoded data removed]",
            "text/plain": [
              "<Figure size 432x288 with 1 Axes>"
            ]
          },
          "metadata": {
            "tags": []
          }
        }
      ]
    },
    {
      "cell_type": "markdown",
      "metadata": {
        "id": "SfIgYsC742Cx",
        "colab_type": "text"
      },
      "source": [
        "---------- End of Model3: **Conv1D+LSTM** ,loss: 0.4626 - acc: 08429------------"
      ]
    },
    {
      "cell_type": "code",
      "metadata": {
        "id": "6rTijA3J4-Qt",
        "colab_type": "code",
        "colab": {}
      },
      "source": [
        "# Test score: 1.6425871821967422\n",
        "# Test accuracy: 0.6208821637121682"
      ],
      "execution_count": 0,
      "outputs": []
    },
    {
      "cell_type": "code",
      "metadata": {
        "id": "SpksrdhURLL0",
        "colab_type": "code",
        "colab": {}
      },
      "source": [
        "model_viz = keras.utils.vis_utils.model_to_dot(Model3)\n",
        "IPython.display.SVG(model_viz.create(prog='dot', format='svg'))"
      ],
      "execution_count": 0,
      "outputs": []
    },
    {
      "cell_type": "code",
      "metadata": {
        "id": "6GFMF7taRLUi",
        "colab_type": "code",
        "colab": {}
      },
      "source": [
        ""
      ],
      "execution_count": 0,
      "outputs": []
    },
    {
      "cell_type": "code",
      "metadata": {
        "id": "JRMERcWtRLYb",
        "colab_type": "code",
        "colab": {}
      },
      "source": [
        ""
      ],
      "execution_count": 0,
      "outputs": []
    }
  ]
}